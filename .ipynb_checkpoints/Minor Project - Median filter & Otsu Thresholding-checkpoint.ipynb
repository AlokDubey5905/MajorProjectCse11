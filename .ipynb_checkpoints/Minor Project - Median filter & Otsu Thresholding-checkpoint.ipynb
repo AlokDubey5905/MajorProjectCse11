{
 "cells": [
  {
   "cell_type": "code",
   "execution_count": 1,
   "id": "893e4241",
   "metadata": {},
   "outputs": [
    {
     "name": "stdout",
     "output_type": "stream",
     "text": [
      "Requirement already satisfied: opencv-python in c:\\users\\aishw\\anaconda3\\lib\\site-packages (4.6.0.66)\n",
      "Requirement already satisfied: numpy>=1.14.5 in c:\\users\\aishw\\anaconda3\\lib\\site-packages (from opencv-python) (1.20.1)\n",
      "Note: you may need to restart the kernel to use updated packages.\n"
     ]
    }
   ],
   "source": [
    "pip install opencv-python"
   ]
  },
  {
   "cell_type": "code",
   "execution_count": 8,
   "id": "85afb6c1",
   "metadata": {},
   "outputs": [
    {
     "data": {
      "text/plain": [
       "-1"
      ]
     },
     "execution_count": 8,
     "metadata": {},
     "output_type": "execute_result"
    }
   ],
   "source": [
    "import cv2\n",
    "import numpy\n",
    "\n",
    "# Unhealthy Image Sample\n",
    "img1 = cv2.imread('D:/Aishwarya/College/Sem7/Minor Project/PlantVillage/Pepper__bell___Bacterial_spot/00f2e69a-1e56-412d-8a79-fdce794a17e4___JR_B.Spot 3132.jpg')\n",
    "img_median1 = cv2.medianBlur(img1, 5)\n",
    "\n",
    "cv2.imshow('image', numpy.hstack((img1,img_median1)))\n",
    "cv2.waitKey(0)\n",
    "cv2.destroyAllWindows()\n",
    "cv2.waitKey(1)"
   ]
  },
  {
   "cell_type": "code",
   "execution_count": 16,
   "id": "68573baa",
   "metadata": {},
   "outputs": [
    {
     "data": {
      "text/plain": [
       "-1"
      ]
     },
     "execution_count": 16,
     "metadata": {},
     "output_type": "execute_result"
    }
   ],
   "source": [
    "import cv2\n",
    "import numpy\n",
    "\n",
    "# Healthy Image Sample\n",
    "img2 = cv2.imread('D:\\Aishwarya\\College\\Sem7\\Minor Project\\PlantVillage\\Pepper__bell___healthy/0c93ef1a-ccc8-4a62-9353-308e7da3ac3e___JR_HL 8245.jpg')\n",
    "img_median2 = cv2.medianBlur(img2, 5)\n",
    "\n",
    "cv2.imshow('image', numpy.hstack((img2,img_median2)))\n",
    "cv2.waitKey(0)\n",
    "cv2.destroyAllWindows()\n",
    "cv2.waitKey(1)"
   ]
  },
  {
   "cell_type": "code",
   "execution_count": 20,
   "id": "bcfb3ba4",
   "metadata": {},
   "outputs": [],
   "source": [
    "# Unhealthy Segmentation\n",
    "import cv2\n",
    "\n",
    "# Loading & Median Blur\n",
    "img1 = cv2.imread('D:/Aishwarya/College/Sem7/Minor Project/PlantVillage/Pepper__bell___Bacterial_spot/00f2e69a-1e56-412d-8a79-fdce794a17e4___JR_B.Spot 3132.jpg')\n",
    "img_median1 = cv2.medianBlur(img1, 5)\n",
    "\n",
    "img_blk1 = cv2.cvtColor(img_median1, cv2.COLOR_BGR2GRAY)\n",
    "\n",
    "ret, thresh1 = cv2.threshold(img_blk1, 120, 255, cv2.THRESH_BINARY + cv2.THRESH_OTSU)\n",
    "\n",
    "cv2.imshow('Otsu Threshold', thresh1)\n",
    "\n",
    "if cv2.waitKey(0) and 0xff == 27:\n",
    "    cv2.destroyAllWindows()\n",
    "    "
   ]
  },
  {
   "cell_type": "code",
   "execution_count": 19,
   "id": "913d2020",
   "metadata": {},
   "outputs": [],
   "source": [
    "# Healthy Segmentation\n",
    "import cv2\n",
    "\n",
    "# Loading & Median Blur\n",
    "img2 = cv2.imread('D:\\Aishwarya\\College\\Sem7\\Minor Project\\PlantVillage\\Pepper__bell___healthy/0c93ef1a-ccc8-4a62-9353-308e7da3ac3e___JR_HL 8245.jpg')\n",
    "img_median2 = cv2.medianBlur(img2, 5)\n",
    "\n",
    "img_blk2 = cv2.cvtColor(img_median2, cv2.COLOR_BGR2GRAY)\n",
    "\n",
    "ret, thresh2 = cv2.threshold(img_blk2, 120, 255, cv2.THRESH_BINARY + cv2.THRESH_OTSU)\n",
    "\n",
    "cv2.imshow('Otsu Threshold', thresh2)\n",
    "\n",
    "if cv2.waitKey(0) and 0xff == 27:\n",
    "    cv2.destroyAllWindows()\n",
    "    "
   ]
  },
  {
   "cell_type": "code",
   "execution_count": null,
   "id": "63aacdfc",
   "metadata": {},
   "outputs": [],
   "source": []
  }
 ],
 "metadata": {
  "kernelspec": {
   "display_name": "Python 3 (ipykernel)",
   "language": "python",
   "name": "python3"
  },
  "language_info": {
   "codemirror_mode": {
    "name": "ipython",
    "version": 3
   },
   "file_extension": ".py",
   "mimetype": "text/x-python",
   "name": "python",
   "nbconvert_exporter": "python",
   "pygments_lexer": "ipython3",
   "version": "3.9.13"
  }
 },
 "nbformat": 4,
 "nbformat_minor": 5
}
