{
 "cells": [
  {
   "cell_type": "code",
   "execution_count": 5,
   "id": "a53293db",
   "metadata": {},
   "outputs": [],
   "source": [
    "import os\n",
    "from os import listdir\n",
    "\n",
    "import cv2\n",
    "import csv\n",
    "import pandas as pd\n",
    "\n",
    "#img = cv2.imread(\"C:/Users/Asus/Downloads/DI.jpg\")\n",
    "result = []\n",
    "\n",
    "folder_dir = \"C:/Users/Asus/Downloads/PlantVillage/Pepper__bell___healthy\"\n",
    "for images in os.listdir(folder_dir):\n",
    " \n",
    "    # check if the image ends with png\n",
    "    if (images.endswith(\".JPG\")):\n",
    "        \n",
    "        IMG_PATH = 'C:/Users/Asus/Downloads/PlantVillage/Pepper__bell___healthy/'\n",
    "        FileName = images\n",
    "        IMG_PATH += FileName\n",
    "#         print(IMG_PATH)\n",
    "        \n",
    "        img = cv2.imread(IMG_PATH)\n",
    "        gr=cv2.cvtColor(img,cv2.COLOR_BGR2GRAY)\n",
    "        d = cv2.SIFT_create(50)\n",
    "        kp=d.detect(gr, None)\n",
    "        gr = cv2.drawKeypoints(gr, kp, None)\n",
    "        \n",
    "        for point in kp:\n",
    "            temp = (point.pt, point.size, point.angle, point.response, point.octave,point.class_id)\n",
    "            result.append(temp)\n",
    "            \n",
    "        df = pd.DataFrame(result).T\n",
    "#         df.to_excel(excel_writer = \"C:/Users/Asus/Downloads/SIFT.xlsx\")\n",
    "        df.to_csv(\"C:/Users/Asus/Downloads/SIFT_HEALTHY.csv\", mode='a', index=False, header=False)\n",
    "\n",
    "        result = []\n",
    "\n",
    "\n",
    "    \n",
    "    \n"
   ]
  },
  {
   "cell_type": "code",
   "execution_count": 12,
   "id": "50c9d0b8",
   "metadata": {},
   "outputs": [],
   "source": []
  },
  {
   "cell_type": "code",
   "execution_count": 5,
   "id": "7f342b0f",
   "metadata": {},
   "outputs": [],
   "source": [
    "sift_image = cv2.drawKeypoints(gr, kp, img)\n",
    "# show the image\n",
    "cv2.imshow('image', sift_image)\n",
    "# save the image\n",
    "cv2.waitKey(0)\n",
    "cv2.destroyAllWindows()"
   ]
  },
  {
   "cell_type": "code",
   "execution_count": null,
   "id": "670e9a22",
   "metadata": {},
   "outputs": [],
   "source": []
  }
 ],
 "metadata": {
  "kernelspec": {
   "display_name": "Python 3 (ipykernel)",
   "language": "python",
   "name": "python3"
  },
  "language_info": {
   "codemirror_mode": {
    "name": "ipython",
    "version": 3
   },
   "file_extension": ".py",
   "mimetype": "text/x-python",
   "name": "python",
   "nbconvert_exporter": "python",
   "pygments_lexer": "ipython3",
   "version": "3.9.13"
  }
 },
 "nbformat": 4,
 "nbformat_minor": 5
}
